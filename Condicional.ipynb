C1 = int(input("Primera calificción:"))
C2 = int(input("Segunda calificación:"))
C3 = int(input("Tercera calificación:"))

Promedio = (C1+C2+C3)/3

if (Promedio >= 6):
    print("Felicidades pasate")
else:
    print("Lo lamento reprovaste")
